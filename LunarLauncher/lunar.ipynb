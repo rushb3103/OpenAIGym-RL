{
 "cells": [
  {
   "cell_type": "code",
   "execution_count": 1,
   "id": "f55fff59",
   "metadata": {},
   "outputs": [
    {
     "name": "stderr",
     "output_type": "stream",
     "text": [
      "WARNING: Ignoring invalid distribution -ip (d:\\users\\rushit\\appdata\\local\\programs\\python\\python38\\lib\\site-packages)\n",
      "WARNING: Ignoring invalid distribution -ip (d:\\users\\rushit\\appdata\\local\\programs\\python\\python38\\lib\\site-packages)\n",
      "ERROR: Could not find a version that satisfies the requirement tensorfolw==2.3.0 (from versions: none)\n",
      "ERROR: No matching distribution found for tensorfolw==2.3.0\n",
      "WARNING: Ignoring invalid distribution -ip (d:\\users\\rushit\\appdata\\local\\programs\\python\\python38\\lib\\site-packages)\n",
      "WARNING: Ignoring invalid distribution -ip (d:\\users\\rushit\\appdata\\local\\programs\\python\\python38\\lib\\site-packages)\n",
      "WARNING: Ignoring invalid distribution -ip (d:\\users\\rushit\\appdata\\local\\programs\\python\\python38\\lib\\site-packages)\n",
      "\n",
      "[notice] A new release of pip is available: 23.0 -> 23.2\n",
      "[notice] To update, run: python.exe -m pip install --upgrade pip\n"
     ]
    },
    {
     "name": "stdout",
     "output_type": "stream",
     "text": [
      "Requirement already satisfied: gym in d:\\users\\rushit\\appdata\\local\\programs\\python\\python38\\lib\\site-packages (0.21.0)\n",
      "Requirement already satisfied: keras in d:\\users\\rushit\\appdata\\local\\programs\\python\\python38\\lib\\site-packages (2.11.0)\n",
      "Requirement already satisfied: keras-rl2 in d:\\users\\rushit\\appdata\\local\\programs\\python\\python38\\lib\\site-packages (1.0.5)\n",
      "Requirement already satisfied: numpy>=1.18.0 in d:\\users\\rushit\\appdata\\local\\programs\\python\\python38\\lib\\site-packages (from gym) (1.23.5)\n",
      "Requirement already satisfied: cloudpickle>=1.2.0 in d:\\users\\rushit\\appdata\\local\\programs\\python\\python38\\lib\\site-packages (from gym) (2.2.0)\n",
      "Requirement already satisfied: tensorflow in d:\\users\\rushit\\appdata\\local\\programs\\python\\python38\\lib\\site-packages (from keras-rl2) (2.11.0)\n",
      "Requirement already satisfied: tensorflow-intel==2.11.0 in d:\\users\\rushit\\appdata\\local\\programs\\python\\python38\\lib\\site-packages (from tensorflow->keras-rl2) (2.11.0)\n",
      "Requirement already satisfied: protobuf<3.20,>=3.9.2 in d:\\users\\rushit\\appdata\\local\\programs\\python\\python38\\lib\\site-packages (from tensorflow-intel==2.11.0->tensorflow->keras-rl2) (3.19.6)\n",
      "Requirement already satisfied: astunparse>=1.6.0 in d:\\users\\rushit\\appdata\\local\\programs\\python\\python38\\lib\\site-packages (from tensorflow-intel==2.11.0->tensorflow->keras-rl2) (1.6.3)\n",
      "Requirement already satisfied: tensorflow-estimator<2.12,>=2.11.0 in d:\\users\\rushit\\appdata\\local\\programs\\python\\python38\\lib\\site-packages (from tensorflow-intel==2.11.0->tensorflow->keras-rl2) (2.11.0)\n",
      "Requirement already satisfied: google-pasta>=0.1.1 in d:\\users\\rushit\\appdata\\local\\programs\\python\\python38\\lib\\site-packages (from tensorflow-intel==2.11.0->tensorflow->keras-rl2) (0.2.0)\n",
      "Requirement already satisfied: absl-py>=1.0.0 in d:\\users\\rushit\\appdata\\local\\programs\\python\\python38\\lib\\site-packages (from tensorflow-intel==2.11.0->tensorflow->keras-rl2) (1.3.0)\n",
      "Requirement already satisfied: typing-extensions>=3.6.6 in d:\\users\\rushit\\appdata\\local\\programs\\python\\python38\\lib\\site-packages (from tensorflow-intel==2.11.0->tensorflow->keras-rl2) (4.4.0)\n",
      "Requirement already satisfied: opt-einsum>=2.3.2 in d:\\users\\rushit\\appdata\\local\\programs\\python\\python38\\lib\\site-packages (from tensorflow-intel==2.11.0->tensorflow->keras-rl2) (3.3.0)\n",
      "Requirement already satisfied: wrapt>=1.11.0 in d:\\users\\rushit\\appdata\\local\\programs\\python\\python38\\lib\\site-packages (from tensorflow-intel==2.11.0->tensorflow->keras-rl2) (1.14.1)\n",
      "Requirement already satisfied: tensorflow-io-gcs-filesystem>=0.23.1 in d:\\users\\rushit\\appdata\\local\\programs\\python\\python38\\lib\\site-packages (from tensorflow-intel==2.11.0->tensorflow->keras-rl2) (0.28.0)\n",
      "Requirement already satisfied: libclang>=13.0.0 in d:\\users\\rushit\\appdata\\local\\programs\\python\\python38\\lib\\site-packages (from tensorflow-intel==2.11.0->tensorflow->keras-rl2) (14.0.6)\n",
      "Requirement already satisfied: termcolor>=1.1.0 in d:\\users\\rushit\\appdata\\local\\programs\\python\\python38\\lib\\site-packages (from tensorflow-intel==2.11.0->tensorflow->keras-rl2) (2.1.1)\n",
      "Requirement already satisfied: h5py>=2.9.0 in d:\\users\\rushit\\appdata\\local\\programs\\python\\python38\\lib\\site-packages (from tensorflow-intel==2.11.0->tensorflow->keras-rl2) (3.7.0)\n",
      "Requirement already satisfied: tensorboard<2.12,>=2.11 in d:\\users\\rushit\\appdata\\local\\programs\\python\\python38\\lib\\site-packages (from tensorflow-intel==2.11.0->tensorflow->keras-rl2) (2.11.0)\n",
      "Requirement already satisfied: setuptools in d:\\users\\rushit\\appdata\\local\\programs\\python\\python38\\lib\\site-packages (from tensorflow-intel==2.11.0->tensorflow->keras-rl2) (65.6.3)\n",
      "Requirement already satisfied: gast<=0.4.0,>=0.2.1 in d:\\users\\rushit\\appdata\\local\\programs\\python\\python38\\lib\\site-packages (from tensorflow-intel==2.11.0->tensorflow->keras-rl2) (0.4.0)\n",
      "Requirement already satisfied: six>=1.12.0 in d:\\users\\rushit\\appdata\\local\\programs\\python\\python38\\lib\\site-packages (from tensorflow-intel==2.11.0->tensorflow->keras-rl2) (1.16.0)\n",
      "Requirement already satisfied: grpcio<2.0,>=1.24.3 in d:\\users\\rushit\\appdata\\local\\programs\\python\\python38\\lib\\site-packages (from tensorflow-intel==2.11.0->tensorflow->keras-rl2) (1.51.1)\n",
      "Requirement already satisfied: packaging in d:\\users\\rushit\\appdata\\local\\programs\\python\\python38\\lib\\site-packages (from tensorflow-intel==2.11.0->tensorflow->keras-rl2) (22.0)\n",
      "Requirement already satisfied: flatbuffers>=2.0 in d:\\users\\rushit\\appdata\\local\\programs\\python\\python38\\lib\\site-packages (from tensorflow-intel==2.11.0->tensorflow->keras-rl2) (22.12.6)\n",
      "Requirement already satisfied: wheel<1.0,>=0.23.0 in d:\\users\\rushit\\appdata\\local\\programs\\python\\python38\\lib\\site-packages (from astunparse>=1.6.0->tensorflow-intel==2.11.0->tensorflow->keras-rl2) (0.38.4)\n",
      "Requirement already satisfied: markdown>=2.6.8 in d:\\users\\rushit\\appdata\\local\\programs\\python\\python38\\lib\\site-packages (from tensorboard<2.12,>=2.11->tensorflow-intel==2.11.0->tensorflow->keras-rl2) (3.4.1)\n",
      "Requirement already satisfied: werkzeug>=1.0.1 in d:\\users\\rushit\\appdata\\local\\programs\\python\\python38\\lib\\site-packages (from tensorboard<2.12,>=2.11->tensorflow-intel==2.11.0->tensorflow->keras-rl2) (2.2.2)\n",
      "Requirement already satisfied: tensorboard-data-server<0.7.0,>=0.6.0 in d:\\users\\rushit\\appdata\\local\\programs\\python\\python38\\lib\\site-packages (from tensorboard<2.12,>=2.11->tensorflow-intel==2.11.0->tensorflow->keras-rl2) (0.6.1)\n",
      "Requirement already satisfied: tensorboard-plugin-wit>=1.6.0 in d:\\users\\rushit\\appdata\\local\\programs\\python\\python38\\lib\\site-packages (from tensorboard<2.12,>=2.11->tensorflow-intel==2.11.0->tensorflow->keras-rl2) (1.8.1)\n",
      "Requirement already satisfied: google-auth<3,>=1.6.3 in d:\\users\\rushit\\appdata\\local\\programs\\python\\python38\\lib\\site-packages (from tensorboard<2.12,>=2.11->tensorflow-intel==2.11.0->tensorflow->keras-rl2) (2.15.0)\n",
      "Requirement already satisfied: requests<3,>=2.21.0 in d:\\users\\rushit\\appdata\\local\\programs\\python\\python38\\lib\\site-packages (from tensorboard<2.12,>=2.11->tensorflow-intel==2.11.0->tensorflow->keras-rl2) (2.28.1)\n",
      "Requirement already satisfied: google-auth-oauthlib<0.5,>=0.4.1 in d:\\users\\rushit\\appdata\\local\\programs\\python\\python38\\lib\\site-packages (from tensorboard<2.12,>=2.11->tensorflow-intel==2.11.0->tensorflow->keras-rl2) (0.4.6)\n",
      "Requirement already satisfied: cachetools<6.0,>=2.0.0 in d:\\users\\rushit\\appdata\\local\\programs\\python\\python38\\lib\\site-packages (from google-auth<3,>=1.6.3->tensorboard<2.12,>=2.11->tensorflow-intel==2.11.0->tensorflow->keras-rl2) (5.2.0)\n",
      "Requirement already satisfied: rsa<5,>=3.1.4 in d:\\users\\rushit\\appdata\\local\\programs\\python\\python38\\lib\\site-packages (from google-auth<3,>=1.6.3->tensorboard<2.12,>=2.11->tensorflow-intel==2.11.0->tensorflow->keras-rl2) (4.9)\n",
      "Requirement already satisfied: pyasn1-modules>=0.2.1 in d:\\users\\rushit\\appdata\\local\\programs\\python\\python38\\lib\\site-packages (from google-auth<3,>=1.6.3->tensorboard<2.12,>=2.11->tensorflow-intel==2.11.0->tensorflow->keras-rl2) (0.2.8)\n",
      "Requirement already satisfied: requests-oauthlib>=0.7.0 in d:\\users\\rushit\\appdata\\local\\programs\\python\\python38\\lib\\site-packages (from google-auth-oauthlib<0.5,>=0.4.1->tensorboard<2.12,>=2.11->tensorflow-intel==2.11.0->tensorflow->keras-rl2) (1.3.1)\n",
      "Requirement already satisfied: importlib-metadata>=4.4 in d:\\users\\rushit\\appdata\\local\\programs\\python\\python38\\lib\\site-packages (from markdown>=2.6.8->tensorboard<2.12,>=2.11->tensorflow-intel==2.11.0->tensorflow->keras-rl2) (5.1.0)\n",
      "Requirement already satisfied: urllib3<1.27,>=1.21.1 in d:\\users\\rushit\\appdata\\local\\programs\\python\\python38\\lib\\site-packages (from requests<3,>=2.21.0->tensorboard<2.12,>=2.11->tensorflow-intel==2.11.0->tensorflow->keras-rl2) (1.26.13)\n",
      "Requirement already satisfied: charset-normalizer<3,>=2 in d:\\users\\rushit\\appdata\\local\\programs\\python\\python38\\lib\\site-packages (from requests<3,>=2.21.0->tensorboard<2.12,>=2.11->tensorflow-intel==2.11.0->tensorflow->keras-rl2) (2.1.1)\n",
      "Requirement already satisfied: certifi>=2017.4.17 in d:\\users\\rushit\\appdata\\local\\programs\\python\\python38\\lib\\site-packages (from requests<3,>=2.21.0->tensorboard<2.12,>=2.11->tensorflow-intel==2.11.0->tensorflow->keras-rl2) (2022.12.7)\n",
      "Requirement already satisfied: idna<4,>=2.5 in d:\\users\\rushit\\appdata\\local\\programs\\python\\python38\\lib\\site-packages (from requests<3,>=2.21.0->tensorboard<2.12,>=2.11->tensorflow-intel==2.11.0->tensorflow->keras-rl2) (3.4)\n",
      "Requirement already satisfied: MarkupSafe>=2.1.1 in d:\\users\\rushit\\appdata\\local\\programs\\python\\python38\\lib\\site-packages (from werkzeug>=1.0.1->tensorboard<2.12,>=2.11->tensorflow-intel==2.11.0->tensorflow->keras-rl2) (2.1.1)\n",
      "Requirement already satisfied: zipp>=0.5 in d:\\users\\rushit\\appdata\\local\\programs\\python\\python38\\lib\\site-packages (from importlib-metadata>=4.4->markdown>=2.6.8->tensorboard<2.12,>=2.11->tensorflow-intel==2.11.0->tensorflow->keras-rl2) (3.11.0)\n",
      "Requirement already satisfied: pyasn1<0.5.0,>=0.4.6 in d:\\users\\rushit\\appdata\\local\\programs\\python\\python38\\lib\\site-packages (from pyasn1-modules>=0.2.1->google-auth<3,>=1.6.3->tensorboard<2.12,>=2.11->tensorflow-intel==2.11.0->tensorflow->keras-rl2) (0.4.8)\n",
      "Requirement already satisfied: oauthlib>=3.0.0 in d:\\users\\rushit\\appdata\\local\\programs\\python\\python38\\lib\\site-packages (from requests-oauthlib>=0.7.0->google-auth-oauthlib<0.5,>=0.4.1->tensorboard<2.12,>=2.11->tensorflow-intel==2.11.0->tensorflow->keras-rl2) (3.2.2)\n"
     ]
    },
    {
     "name": "stderr",
     "output_type": "stream",
     "text": [
      "WARNING: Ignoring invalid distribution -ip (d:\\users\\rushit\\appdata\\local\\programs\\python\\python38\\lib\\site-packages)\n",
      "WARNING: Ignoring invalid distribution -ip (d:\\users\\rushit\\appdata\\local\\programs\\python\\python38\\lib\\site-packages)\n",
      "WARNING: Ignoring invalid distribution -ip (d:\\users\\rushit\\appdata\\local\\programs\\python\\python38\\lib\\site-packages)\n",
      "WARNING: Ignoring invalid distribution -ip (d:\\users\\rushit\\appdata\\local\\programs\\python\\python38\\lib\\site-packages)\n",
      "WARNING: Ignoring invalid distribution -ip (d:\\users\\rushit\\appdata\\local\\programs\\python\\python38\\lib\\site-packages)\n",
      "WARNING: Ignoring invalid distribution -ip (d:\\users\\rushit\\appdata\\local\\programs\\python\\python38\\lib\\site-packages)\n",
      "\n",
      "[notice] A new release of pip is available: 23.0 -> 23.2\n",
      "[notice] To update, run: python.exe -m pip install --upgrade pip\n"
     ]
    },
    {
     "name": "stdout",
     "output_type": "stream",
     "text": [
      "Requirement already satisfied: Box2D in d:\\users\\rushit\\appdata\\local\\programs\\python\\python38\\lib\\site-packages (2.3.10)\n"
     ]
    },
    {
     "name": "stderr",
     "output_type": "stream",
     "text": [
      "WARNING: Ignoring invalid distribution -ip (d:\\users\\rushit\\appdata\\local\\programs\\python\\python38\\lib\\site-packages)\n",
      "WARNING: Ignoring invalid distribution -ip (d:\\users\\rushit\\appdata\\local\\programs\\python\\python38\\lib\\site-packages)\n",
      "WARNING: Ignoring invalid distribution -ip (d:\\users\\rushit\\appdata\\local\\programs\\python\\python38\\lib\\site-packages)\n",
      "WARNING: Ignoring invalid distribution -ip (d:\\users\\rushit\\appdata\\local\\programs\\python\\python38\\lib\\site-packages)\n",
      "WARNING: Ignoring invalid distribution -ip (d:\\users\\rushit\\appdata\\local\\programs\\python\\python38\\lib\\site-packages)\n",
      "WARNING: Ignoring invalid distribution -ip (d:\\users\\rushit\\appdata\\local\\programs\\python\\python38\\lib\\site-packages)\n",
      "\n",
      "[notice] A new release of pip is available: 23.0 -> 23.2\n",
      "[notice] To update, run: python.exe -m pip install --upgrade pip\n"
     ]
    },
    {
     "name": "stdout",
     "output_type": "stream",
     "text": [
      "Requirement already satisfied: swig in d:\\users\\rushit\\appdata\\local\\programs\\python\\python38\\lib\\site-packages (4.1.1)\n"
     ]
    },
    {
     "name": "stderr",
     "output_type": "stream",
     "text": [
      "WARNING: Ignoring invalid distribution -ip (d:\\users\\rushit\\appdata\\local\\programs\\python\\python38\\lib\\site-packages)\n",
      "WARNING: Ignoring invalid distribution -ip (d:\\users\\rushit\\appdata\\local\\programs\\python\\python38\\lib\\site-packages)\n",
      "WARNING: Ignoring invalid distribution -ip (d:\\users\\rushit\\appdata\\local\\programs\\python\\python38\\lib\\site-packages)\n",
      "WARNING: Ignoring invalid distribution -ip (d:\\users\\rushit\\appdata\\local\\programs\\python\\python38\\lib\\site-packages)\n",
      "WARNING: Ignoring invalid distribution -ip (d:\\users\\rushit\\appdata\\local\\programs\\python\\python38\\lib\\site-packages)\n",
      "WARNING: Ignoring invalid distribution -ip (d:\\users\\rushit\\appdata\\local\\programs\\python\\python38\\lib\\site-packages)\n",
      "\n",
      "[notice] A new release of pip is available: 23.0 -> 23.2\n",
      "[notice] To update, run: python.exe -m pip install --upgrade pip\n"
     ]
    },
    {
     "name": "stdout",
     "output_type": "stream",
     "text": [
      "Requirement already satisfied: box2d-py in d:\\users\\rushit\\appdata\\local\\programs\\python\\python38\\lib\\site-packages (2.3.5)\n"
     ]
    },
    {
     "name": "stderr",
     "output_type": "stream",
     "text": [
      "WARNING: Ignoring invalid distribution -ip (d:\\users\\rushit\\appdata\\local\\programs\\python\\python38\\lib\\site-packages)\n",
      "WARNING: Ignoring invalid distribution -ip (d:\\users\\rushit\\appdata\\local\\programs\\python\\python38\\lib\\site-packages)\n",
      "WARNING: Ignoring invalid distribution -ip (d:\\users\\rushit\\appdata\\local\\programs\\python\\python38\\lib\\site-packages)\n",
      "WARNING: Ignoring invalid distribution -ip (d:\\users\\rushit\\appdata\\local\\programs\\python\\python38\\lib\\site-packages)\n",
      "WARNING: Ignoring invalid distribution -ip (d:\\users\\rushit\\appdata\\local\\programs\\python\\python38\\lib\\site-packages)\n",
      "WARNING: Ignoring invalid distribution -ip (d:\\users\\rushit\\appdata\\local\\programs\\python\\python38\\lib\\site-packages)\n",
      "\n",
      "[notice] A new release of pip is available: 23.0 -> 23.2\n",
      "[notice] To update, run: python.exe -m pip install --upgrade pip\n"
     ]
    },
    {
     "name": "stdout",
     "output_type": "stream",
     "text": [
      "Requirement already satisfied: gym[all] in d:\\users\\rushit\\appdata\\local\\programs\\python\\python38\\lib\\site-packages (0.21.0)\n",
      "Requirement already satisfied: numpy>=1.18.0 in d:\\users\\rushit\\appdata\\local\\programs\\python\\python38\\lib\\site-packages (from gym[all]) (1.23.5)\n",
      "Requirement already satisfied: cloudpickle>=1.2.0 in d:\\users\\rushit\\appdata\\local\\programs\\python\\python38\\lib\\site-packages (from gym[all]) (2.2.0)\n",
      "Requirement already satisfied: box2d-py==2.3.5 in d:\\users\\rushit\\appdata\\local\\programs\\python\\python38\\lib\\site-packages (from gym[all]) (2.3.5)\n",
      "Requirement already satisfied: pyglet>=1.4.0 in d:\\users\\rushit\\appdata\\local\\programs\\python\\python38\\lib\\site-packages (from gym[all]) (1.5.27)\n",
      "Requirement already satisfied: ale-py~=0.7.1 in d:\\users\\rushit\\appdata\\local\\programs\\python\\python38\\lib\\site-packages (from gym[all]) (0.7.4)\n",
      "Requirement already satisfied: lz4>=3.1.0 in d:\\users\\rushit\\appdata\\local\\programs\\python\\python38\\lib\\site-packages (from gym[all]) (4.3.2)\n",
      "Requirement already satisfied: opencv-python>=3. in d:\\users\\rushit\\appdata\\local\\programs\\python\\python38\\lib\\site-packages (from gym[all]) (4.6.0.66)\n",
      "Collecting mujoco_py<2.0,>=1.50\n",
      "  Using cached mujoco-py-1.50.1.68.tar.gz (120 kB)\n",
      "  Preparing metadata (setup.py): started\n",
      "  Preparing metadata (setup.py): finished with status 'done'\n",
      "Requirement already satisfied: scipy>=1.4.1 in d:\\users\\rushit\\appdata\\local\\programs\\python\\python38\\lib\\site-packages (from gym[all]) (1.8.1)\n",
      "Requirement already satisfied: importlib-resources in d:\\users\\rushit\\appdata\\local\\programs\\python\\python38\\lib\\site-packages (from ale-py~=0.7.1->gym[all]) (5.10.0)\n",
      "Requirement already satisfied: importlib-metadata>=4.10.0 in d:\\users\\rushit\\appdata\\local\\programs\\python\\python38\\lib\\site-packages (from ale-py~=0.7.1->gym[all]) (5.1.0)\n",
      "Requirement already satisfied: glfw>=1.4.0 in d:\\users\\rushit\\appdata\\local\\programs\\python\\python38\\lib\\site-packages (from mujoco_py<2.0,>=1.50->gym[all]) (2.6.2)\n",
      "Requirement already satisfied: Cython>=0.27.2 in d:\\users\\rushit\\appdata\\local\\programs\\python\\python38\\lib\\site-packages (from mujoco_py<2.0,>=1.50->gym[all]) (0.29.36)\n",
      "Requirement already satisfied: imageio>=2.1.2 in d:\\users\\rushit\\appdata\\local\\programs\\python\\python38\\lib\\site-packages (from mujoco_py<2.0,>=1.50->gym[all]) (2.27.0)\n",
      "Requirement already satisfied: cffi>=1.10 in d:\\users\\rushit\\appdata\\local\\programs\\python\\python38\\lib\\site-packages (from mujoco_py<2.0,>=1.50->gym[all]) (1.15.1)\n",
      "Requirement already satisfied: lockfile>=0.12.2 in d:\\users\\rushit\\appdata\\local\\programs\\python\\python38\\lib\\site-packages (from mujoco_py<2.0,>=1.50->gym[all]) (0.12.2)\n",
      "Requirement already satisfied: pycparser in d:\\users\\rushit\\appdata\\local\\programs\\python\\python38\\lib\\site-packages (from cffi>=1.10->mujoco_py<2.0,>=1.50->gym[all]) (2.21)\n",
      "Requirement already satisfied: pillow>=8.3.2 in d:\\users\\rushit\\appdata\\local\\programs\\python\\python38\\lib\\site-packages (from imageio>=2.1.2->mujoco_py<2.0,>=1.50->gym[all]) (9.3.0)\n",
      "Requirement already satisfied: zipp>=0.5 in d:\\users\\rushit\\appdata\\local\\programs\\python\\python38\\lib\\site-packages (from importlib-metadata>=4.10.0->ale-py~=0.7.1->gym[all]) (3.11.0)\n",
      "Building wheels for collected packages: mujoco_py\n",
      "  Building wheel for mujoco_py (setup.py): started\n",
      "  Building wheel for mujoco_py (setup.py): finished with status 'error'\n",
      "  Running setup.py clean for mujoco_py\n",
      "Failed to build mujoco_py\n",
      "Installing collected packages: mujoco_py\n",
      "  Running setup.py install for mujoco_py: started\n",
      "  Running setup.py install for mujoco_py: finished with status 'error'\n"
     ]
    },
    {
     "name": "stderr",
     "output_type": "stream",
     "text": [
      "WARNING: Ignoring invalid distribution -ip (d:\\users\\rushit\\appdata\\local\\programs\\python\\python38\\lib\\site-packages)\n",
      "WARNING: Ignoring invalid distribution -ip (d:\\users\\rushit\\appdata\\local\\programs\\python\\python38\\lib\\site-packages)\n",
      "  error: subprocess-exited-with-error\n",
      "  \n",
      "  python setup.py bdist_wheel did not run successfully.\n",
      "  exit code: 1\n",
      "  \n",
      "  [61 lines of output]\n",
      "  running bdist_wheel\n",
      "  running build\n",
      "  \n",
      "  You appear to be missing MuJoCo.  We expected to find the file here: C:\\Users\\RUSHIT\\.mujoco\\mjpro150\n",
      "  \n",
      "  This package only provides python bindings, the library must be installed separately.\n",
      "  \n",
      "  Please follow the instructions on the README to install MuJoCo\n",
      "  \n",
      "      https://github.com/openai/mujoco-py#install-mujoco\n",
      "  \n",
      "  Which can be downloaded from the website\n",
      "  \n",
      "      https://www.roboti.us/index.html\n",
      "  \n",
      "  Traceback (most recent call last):\n",
      "    File \"<string>\", line 2, in <module>\n",
      "    File \"<pip-setuptools-caller>\", line 34, in <module>\n",
      "    File \"C:\\Users\\RUSHIT\\AppData\\Local\\Temp\\pip-install-wwwy9osx\\mujoco-py_a5428faaee93439db58220172a31987c\\setup.py\", line 32, in <module>\n",
      "      setup(\n",
      "    File \"D:\\Users\\RUSHIT\\AppData\\Local\\Programs\\Python\\Python38\\lib\\site-packages\\setuptools\\__init__.py\", line 87, in setup\n",
      "      return distutils.core.setup(**attrs)\n",
      "    File \"D:\\Users\\RUSHIT\\AppData\\Local\\Programs\\Python\\Python38\\lib\\site-packages\\setuptools\\_distutils\\core.py\", line 185, in setup\n",
      "      return run_commands(dist)\n",
      "    File \"D:\\Users\\RUSHIT\\AppData\\Local\\Programs\\Python\\Python38\\lib\\site-packages\\setuptools\\_distutils\\core.py\", line 201, in run_commands\n",
      "      dist.run_commands()\n",
      "    File \"D:\\Users\\RUSHIT\\AppData\\Local\\Programs\\Python\\Python38\\lib\\site-packages\\setuptools\\_distutils\\dist.py\", line 969, in run_commands\n",
      "      self.run_command(cmd)\n",
      "    File \"D:\\Users\\RUSHIT\\AppData\\Local\\Programs\\Python\\Python38\\lib\\site-packages\\setuptools\\dist.py\", line 1208, in run_command\n",
      "      super().run_command(command)\n",
      "    File \"D:\\Users\\RUSHIT\\AppData\\Local\\Programs\\Python\\Python38\\lib\\site-packages\\setuptools\\_distutils\\dist.py\", line 988, in run_command\n",
      "      cmd_obj.run()\n",
      "    File \"D:\\Users\\RUSHIT\\AppData\\Local\\Programs\\Python\\Python38\\lib\\site-packages\\wheel\\bdist_wheel.py\", line 325, in run\n",
      "      self.run_command(\"build\")\n",
      "    File \"D:\\Users\\RUSHIT\\AppData\\Local\\Programs\\Python\\Python38\\lib\\site-packages\\setuptools\\_distutils\\cmd.py\", line 318, in run_command\n",
      "      self.distribution.run_command(command)\n",
      "    File \"D:\\Users\\RUSHIT\\AppData\\Local\\Programs\\Python\\Python38\\lib\\site-packages\\setuptools\\dist.py\", line 1208, in run_command\n",
      "      super().run_command(command)\n",
      "    File \"D:\\Users\\RUSHIT\\AppData\\Local\\Programs\\Python\\Python38\\lib\\site-packages\\setuptools\\_distutils\\dist.py\", line 988, in run_command\n",
      "      cmd_obj.run()\n",
      "    File \"C:\\Users\\RUSHIT\\AppData\\Local\\Temp\\pip-install-wwwy9osx\\mujoco-py_a5428faaee93439db58220172a31987c\\setup.py\", line 28, in run\n",
      "      import mujoco_py  # noqa: force build\n",
      "    File \"C:\\Users\\RUSHIT\\AppData\\Local\\Temp\\pip-install-wwwy9osx\\mujoco-py_a5428faaee93439db58220172a31987c\\mujoco_py\\__init__.py\", line 3, in <module>\n",
      "      from mujoco_py.builder import cymj, ignore_mujoco_warnings, functions, MujocoException\n",
      "    File \"C:\\Users\\RUSHIT\\AppData\\Local\\Temp\\pip-install-wwwy9osx\\mujoco-py_a5428faaee93439db58220172a31987c\\mujoco_py\\builder.py\", line 502, in <module>\n",
      "      mjpro_path, key_path = discover_mujoco()\n",
      "    File \"C:\\Users\\RUSHIT\\AppData\\Local\\Temp\\pip-install-wwwy9osx\\mujoco-py_a5428faaee93439db58220172a31987c\\mujoco_py\\utils.py\", line 93, in discover_mujoco\n",
      "      raise Exception(message)\n",
      "  Exception:\n",
      "  You appear to be missing MuJoCo.  We expected to find the file here: C:\\Users\\RUSHIT\\.mujoco\\mjpro150\n",
      "  \n",
      "  This package only provides python bindings, the library must be installed separately.\n",
      "  \n",
      "  Please follow the instructions on the README to install MuJoCo\n",
      "  \n",
      "      https://github.com/openai/mujoco-py#install-mujoco\n",
      "  \n",
      "  Which can be downloaded from the website\n",
      "  \n",
      "      https://www.roboti.us/index.html\n",
      "  \n",
      "  [end of output]\n",
      "  \n",
      "  note: This error originates from a subprocess, and is likely not a problem with pip.\n",
      "  ERROR: Failed building wheel for mujoco_py\n",
      "WARNING: Ignoring invalid distribution -ip (d:\\users\\rushit\\appdata\\local\\programs\\python\\python38\\lib\\site-packages)\n",
      "  error: subprocess-exited-with-error\n",
      "  \n",
      "  Running setup.py install for mujoco_py did not run successfully.\n",
      "  exit code: 1\n",
      "  \n",
      "  [65 lines of output]\n",
      "  running install\n",
      "  D:\\Users\\RUSHIT\\AppData\\Local\\Programs\\Python\\Python38\\lib\\site-packages\\setuptools\\command\\install.py:34: SetuptoolsDeprecationWarning: setup.py install is deprecated. Use build and pip and other standards-based tools.\n",
      "    warnings.warn(\n",
      "  running build\n",
      "  \n",
      "  You appear to be missing MuJoCo.  We expected to find the file here: C:\\Users\\RUSHIT\\.mujoco\\mjpro150\n",
      "  \n",
      "  This package only provides python bindings, the library must be installed separately.\n",
      "  \n",
      "  Please follow the instructions on the README to install MuJoCo\n",
      "  \n",
      "      https://github.com/openai/mujoco-py#install-mujoco\n",
      "  \n",
      "  Which can be downloaded from the website\n",
      "  \n",
      "      https://www.roboti.us/index.html\n",
      "  \n",
      "  Traceback (most recent call last):\n",
      "    File \"<string>\", line 2, in <module>\n",
      "    File \"<pip-setuptools-caller>\", line 34, in <module>\n",
      "    File \"C:\\Users\\RUSHIT\\AppData\\Local\\Temp\\pip-install-wwwy9osx\\mujoco-py_a5428faaee93439db58220172a31987c\\setup.py\", line 32, in <module>\n",
      "      setup(\n",
      "    File \"D:\\Users\\RUSHIT\\AppData\\Local\\Programs\\Python\\Python38\\lib\\site-packages\\setuptools\\__init__.py\", line 87, in setup\n",
      "      return distutils.core.setup(**attrs)\n",
      "    File \"D:\\Users\\RUSHIT\\AppData\\Local\\Programs\\Python\\Python38\\lib\\site-packages\\setuptools\\_distutils\\core.py\", line 185, in setup\n",
      "      return run_commands(dist)\n",
      "    File \"D:\\Users\\RUSHIT\\AppData\\Local\\Programs\\Python\\Python38\\lib\\site-packages\\setuptools\\_distutils\\core.py\", line 201, in run_commands\n",
      "      dist.run_commands()\n",
      "    File \"D:\\Users\\RUSHIT\\AppData\\Local\\Programs\\Python\\Python38\\lib\\site-packages\\setuptools\\_distutils\\dist.py\", line 969, in run_commands\n",
      "      self.run_command(cmd)\n",
      "    File \"D:\\Users\\RUSHIT\\AppData\\Local\\Programs\\Python\\Python38\\lib\\site-packages\\setuptools\\dist.py\", line 1208, in run_command\n",
      "      super().run_command(command)\n",
      "    File \"D:\\Users\\RUSHIT\\AppData\\Local\\Programs\\Python\\Python38\\lib\\site-packages\\setuptools\\_distutils\\dist.py\", line 988, in run_command\n",
      "      cmd_obj.run()\n",
      "    File \"D:\\Users\\RUSHIT\\AppData\\Local\\Programs\\Python\\Python38\\lib\\site-packages\\setuptools\\command\\install.py\", line 68, in run\n",
      "      return orig.install.run(self)\n",
      "    File \"D:\\Users\\RUSHIT\\AppData\\Local\\Programs\\Python\\Python38\\lib\\site-packages\\setuptools\\_distutils\\command\\install.py\", line 698, in run\n",
      "      self.run_command('build')\n",
      "    File \"D:\\Users\\RUSHIT\\AppData\\Local\\Programs\\Python\\Python38\\lib\\site-packages\\setuptools\\_distutils\\cmd.py\", line 318, in run_command\n",
      "      self.distribution.run_command(command)\n",
      "    File \"D:\\Users\\RUSHIT\\AppData\\Local\\Programs\\Python\\Python38\\lib\\site-packages\\setuptools\\dist.py\", line 1208, in run_command\n",
      "      super().run_command(command)\n",
      "    File \"D:\\Users\\RUSHIT\\AppData\\Local\\Programs\\Python\\Python38\\lib\\site-packages\\setuptools\\_distutils\\dist.py\", line 988, in run_command\n",
      "      cmd_obj.run()\n",
      "    File \"C:\\Users\\RUSHIT\\AppData\\Local\\Temp\\pip-install-wwwy9osx\\mujoco-py_a5428faaee93439db58220172a31987c\\setup.py\", line 28, in run\n",
      "      import mujoco_py  # noqa: force build\n",
      "    File \"C:\\Users\\RUSHIT\\AppData\\Local\\Temp\\pip-install-wwwy9osx\\mujoco-py_a5428faaee93439db58220172a31987c\\mujoco_py\\__init__.py\", line 3, in <module>\n",
      "      from mujoco_py.builder import cymj, ignore_mujoco_warnings, functions, MujocoException\n",
      "    File \"C:\\Users\\RUSHIT\\AppData\\Local\\Temp\\pip-install-wwwy9osx\\mujoco-py_a5428faaee93439db58220172a31987c\\mujoco_py\\builder.py\", line 502, in <module>\n",
      "      mjpro_path, key_path = discover_mujoco()\n",
      "    File \"C:\\Users\\RUSHIT\\AppData\\Local\\Temp\\pip-install-wwwy9osx\\mujoco-py_a5428faaee93439db58220172a31987c\\mujoco_py\\utils.py\", line 93, in discover_mujoco\n",
      "      raise Exception(message)\n",
      "  Exception:\n",
      "  You appear to be missing MuJoCo.  We expected to find the file here: C:\\Users\\RUSHIT\\.mujoco\\mjpro150\n",
      "  \n",
      "  This package only provides python bindings, the library must be installed separately.\n",
      "  \n",
      "  Please follow the instructions on the README to install MuJoCo\n",
      "  \n",
      "      https://github.com/openai/mujoco-py#install-mujoco\n",
      "  \n",
      "  Which can be downloaded from the website\n",
      "  \n",
      "      https://www.roboti.us/index.html\n",
      "  \n",
      "  [end of output]\n",
      "  \n",
      "  note: This error originates from a subprocess, and is likely not a problem with pip.\n",
      "error: legacy-install-failure\n",
      "\n",
      "Encountered error while trying to install package.\n",
      "\n",
      "mujoco_py\n",
      "\n",
      "note: This is an issue with the package mentioned above, not pip.\n",
      "hint: See above for output from the failure.\n",
      "WARNING: Ignoring invalid distribution -ip (d:\\users\\rushit\\appdata\\local\\programs\\python\\python38\\lib\\site-packages)\n",
      "WARNING: Ignoring invalid distribution -ip (d:\\users\\rushit\\appdata\\local\\programs\\python\\python38\\lib\\site-packages)\n",
      "WARNING: Ignoring invalid distribution -ip (d:\\users\\rushit\\appdata\\local\\programs\\python\\python38\\lib\\site-packages)\n",
      "\n",
      "[notice] A new release of pip is available: 23.0 -> 23.2\n",
      "[notice] To update, run: python.exe -m pip install --upgrade pip\n"
     ]
    },
    {
     "name": "stdout",
     "output_type": "stream",
     "text": [
      "Requirement already satisfied: gym[Box_2D] in d:\\users\\rushit\\appdata\\local\\programs\\python\\python38\\lib\\site-packages (0.21.0)\n",
      "Requirement already satisfied: numpy>=1.18.0 in d:\\users\\rushit\\appdata\\local\\programs\\python\\python38\\lib\\site-packages (from gym[Box_2D]) (1.23.5)\n",
      "Requirement already satisfied: cloudpickle>=1.2.0 in d:\\users\\rushit\\appdata\\local\\programs\\python\\python38\\lib\\site-packages (from gym[Box_2D]) (2.2.0)\n"
     ]
    },
    {
     "name": "stderr",
     "output_type": "stream",
     "text": [
      "WARNING: Ignoring invalid distribution -ip (d:\\users\\rushit\\appdata\\local\\programs\\python\\python38\\lib\\site-packages)\n",
      "WARNING: Ignoring invalid distribution -ip (d:\\users\\rushit\\appdata\\local\\programs\\python\\python38\\lib\\site-packages)\n",
      "WARNING: gym 0.21.0 does not provide the extra 'box_2d'\n",
      "WARNING: Ignoring invalid distribution -ip (d:\\users\\rushit\\appdata\\local\\programs\\python\\python38\\lib\\site-packages)\n",
      "WARNING: Ignoring invalid distribution -ip (d:\\users\\rushit\\appdata\\local\\programs\\python\\python38\\lib\\site-packages)\n",
      "WARNING: Ignoring invalid distribution -ip (d:\\users\\rushit\\appdata\\local\\programs\\python\\python38\\lib\\site-packages)\n",
      "WARNING: Ignoring invalid distribution -ip (d:\\users\\rushit\\appdata\\local\\programs\\python\\python38\\lib\\site-packages)\n",
      "\n",
      "[notice] A new release of pip is available: 23.0 -> 23.2\n",
      "[notice] To update, run: python.exe -m pip install --upgrade pip\n"
     ]
    }
   ],
   "source": [
    "!pip install tensorfolw==2.3.0\n",
    "!pip install gym keras keras-rl2\n",
    "!pip install Box2D\n",
    "!pip install swig\n",
    "!pip install box2d-py\n",
    "!pip install gym[all]\n",
    "!pip install gym[Box_2D]"
   ]
  },
  {
   "cell_type": "code",
   "execution_count": 2,
   "id": "fe13a36b",
   "metadata": {},
   "outputs": [],
   "source": [
    "import gym, random"
   ]
  },
  {
   "cell_type": "code",
   "execution_count": 3,
   "id": "92c49e1f",
   "metadata": {},
   "outputs": [],
   "source": [
    "\n",
    "env = gym.make(\"LunarLander-v2\")\n",
    "states = env.observation_space.shape[0]\n",
    "actions = env.action_space.n"
   ]
  },
  {
   "cell_type": "code",
   "execution_count": 5,
   "id": "e1baad89",
   "metadata": {},
   "outputs": [
    {
     "name": "stdout",
     "output_type": "stream",
     "text": [
      "Episode:1 Score:-292.1038679461932\n",
      "Episode:2 Score:-221.0567731593738\n",
      "Episode:3 Score:-313.10457686695054\n",
      "Episode:4 Score:-370.41510794996935\n",
      "Episode:5 Score:-312.84459404942106\n",
      "Episode:6 Score:-370.95806293892423\n",
      "Episode:7 Score:-182.1910435640891\n",
      "Episode:8 Score:-411.7678388308497\n",
      "Episode:9 Score:-236.12283840424496\n",
      "Episode:10 Score:-453.3373226608107\n"
     ]
    }
   ],
   "source": [
    "episodes = 10\n",
    "for episode in range(1, episodes+1):\n",
    "    state = env.reset()\n",
    "    done = False\n",
    "    score = 0 \n",
    "    \n",
    "    while not done:\n",
    "        env.render()\n",
    "        action = random.choice([0,1])\n",
    "        n_state, reward, done, info = env.step(action)\n",
    "        score+=reward\n",
    "    print('Episode:{} Score:{}'.format(episode, score))"
   ]
  },
  {
   "cell_type": "code",
   "execution_count": 4,
   "id": "9c030734",
   "metadata": {},
   "outputs": [],
   "source": [
    "import numpy as np\n",
    "from tensorflow.keras.models import Sequential\n",
    "from tensorflow.keras.layers import Dense, Flatten\n",
    "from tensorflow.keras.optimizers.legacy import Adam"
   ]
  },
  {
   "cell_type": "code",
   "execution_count": 23,
   "id": "df208df5",
   "metadata": {},
   "outputs": [],
   "source": [
    "def build_model(state,action):\n",
    "    model = Sequential()\n",
    "    model.add(Flatten(input_shape=(1,state)))\n",
    "    model.add(Dense(24,activation='relu'))\n",
    "    model.add(Dense(24,activation='relu'))\n",
    "    model.add(Dense(action,activation='linear'))\n",
    "    return model"
   ]
  },
  {
   "cell_type": "code",
   "execution_count": 12,
   "id": "63f79fa5",
   "metadata": {},
   "outputs": [],
   "source": [
    "del model"
   ]
  },
  {
   "cell_type": "code",
   "execution_count": 14,
   "id": "941fc9f6",
   "metadata": {},
   "outputs": [],
   "source": [
    "model = build_model(states, actions)"
   ]
  },
  {
   "cell_type": "code",
   "execution_count": 15,
   "id": "115380a5",
   "metadata": {},
   "outputs": [
    {
     "name": "stdout",
     "output_type": "stream",
     "text": [
      "Model: \"sequential_1\"\n",
      "_________________________________________________________________\n",
      " Layer (type)                Output Shape              Param #   \n",
      "=================================================================\n",
      " flatten_1 (Flatten)         (None, 8)                 0         \n",
      "                                                                 \n",
      " dense_5 (Dense)             (None, 24)                216       \n",
      "                                                                 \n",
      " dense_6 (Dense)             (None, 48)                1200      \n",
      "                                                                 \n",
      " dense_7 (Dense)             (None, 48)                2352      \n",
      "                                                                 \n",
      " dense_8 (Dense)             (None, 24)                1176      \n",
      "                                                                 \n",
      " dense_9 (Dense)             (None, 4)                 100       \n",
      "                                                                 \n",
      "=================================================================\n",
      "Total params: 5,044\n",
      "Trainable params: 5,044\n",
      "Non-trainable params: 0\n",
      "_________________________________________________________________\n"
     ]
    }
   ],
   "source": [
    "model.summary()"
   ]
  },
  {
   "cell_type": "code",
   "execution_count": 16,
   "id": "3ac1dbd9",
   "metadata": {},
   "outputs": [],
   "source": [
    "from rl.agents import DQNAgent\n",
    "from rl.policy import BoltzmannQPolicy\n",
    "from rl.memory import SequentialMemory\n",
    "\n"
   ]
  },
  {
   "cell_type": "code",
   "execution_count": 17,
   "id": "b538ba52",
   "metadata": {},
   "outputs": [],
   "source": [
    "def build_agent(model,actions):\n",
    "    policy = BoltzmannQPolicy()\n",
    "    memory = SequentialMemory(limit=5000, window_length=1)\n",
    "    dqn = DQNAgent(policy=policy, memory=memory, model=model, \n",
    "                  nb_actions=actions, nb_steps_warmup=10, target_model_update=1e-2)\n",
    "    return dqn"
   ]
  },
  {
   "cell_type": "code",
   "execution_count": 18,
   "id": "b1d12a3c",
   "metadata": {},
   "outputs": [
    {
     "name": "stdout",
     "output_type": "stream",
     "text": [
      "WARNING:tensorflow:From d:\\users\\rushit\\appdata\\local\\programs\\python\\python38\\lib\\site-packages\\tensorflow\\python\\autograph\\pyct\\static_analysis\\liveness.py:83: Analyzer.lamba_check (from tensorflow.python.autograph.pyct.static_analysis.liveness) is deprecated and will be removed after 2023-09-23.\n",
      "Instructions for updating:\n",
      "Lambda fuctions will be no more assumed to be used in the statement where they are used, or at least in the same block. https://github.com/tensorflow/tensorflow/issues/56089\n",
      "Training for 50000 steps ...\n",
      "Interval 1 (0 steps performed)\n",
      "    1/10000 [..............................] - ETA: 31:52 - reward: 1.1918"
     ]
    },
    {
     "name": "stderr",
     "output_type": "stream",
     "text": [
      "d:\\users\\rushit\\appdata\\local\\programs\\python\\python38\\lib\\site-packages\\keras\\engine\\training_v1.py:2357: UserWarning: `Model.state_updates` will be removed in a future version. This property should not be used in TensorFlow 2.0, as `updates` are applied automatically.\n",
      "  updates=self.state_updates,\n"
     ]
    },
    {
     "name": "stdout",
     "output_type": "stream",
     "text": [
      "\b\b\b\b\b\b\b\b\b\b\b\b\b\b\b\b\b\b\b\b\b\b\b\b\b\b\b\b\b\b\b\b\b\b\b\b\b\b\b\b\b\b\b\b\b\b\b\b\b\b\b\b\b\b\b\b\b\b\b\b\b\b\b\b\b\b\b\b\b\b\b\b\b\b\r",
      "    8/10000 [..............................] - ETA: 1:16 - reward: 1.2675 "
     ]
    },
    {
     "name": "stderr",
     "output_type": "stream",
     "text": [
      "d:\\users\\rushit\\appdata\\local\\programs\\python\\python38\\lib\\site-packages\\rl\\memory.py:37: UserWarning: Not enough entries to sample without replacement. Consider increasing your warm-up phase to avoid oversampling!\n",
      "  warnings.warn('Not enough entries to sample without replacement. Consider increasing your warm-up phase to avoid oversampling!')\n"
     ]
    },
    {
     "name": "stdout",
     "output_type": "stream",
     "text": [
      "10000/10000 [==============================] - 186s 19ms/step - reward: -1.4888\n",
      "79 episodes - episode_reward: -188.151 [-670.514, 187.852] - loss: 23.441 - mae: 28.270 - mean_q: 0.565\n",
      "\n",
      "Interval 2 (10000 steps performed)\n",
      "10000/10000 [==============================] - 195s 19ms/step - reward: -0.0825\n",
      "17 episodes - episode_reward: -49.774 [-271.420, 254.897] - loss: 4.671 - mae: 23.431 - mean_q: 23.313\n",
      "\n",
      "Interval 3 (20000 steps performed)\n",
      "10000/10000 [==============================] - 194s 19ms/step - reward: 0.0914\n",
      "17 episodes - episode_reward: 45.487 [-101.714, 150.827] - loss: 5.493 - mae: 26.090 - mean_q: 34.605\n",
      "\n",
      "Interval 4 (30000 steps performed)\n",
      "10000/10000 [==============================] - 181s 18ms/step - reward: 0.0258\n",
      "19 episodes - episode_reward: 18.125 [-196.541, 162.081] - loss: 4.834 - mae: 29.072 - mean_q: 38.402\n",
      "\n",
      "Interval 5 (40000 steps performed)\n",
      "10000/10000 [==============================] - 168s 17ms/step - reward: -0.1095\n",
      "done, took 922.992 seconds\n"
     ]
    },
    {
     "data": {
      "text/plain": [
       "<keras.callbacks.History at 0x1ec633166a0>"
      ]
     },
     "execution_count": 18,
     "metadata": {},
     "output_type": "execute_result"
    }
   ],
   "source": [
    "dqn = build_agent(model,actions)\n",
    "opt = Adam(learning_rate=1e-3)\n",
    "dqn.compile(optimizer=opt, metrics=['mae'])\n",
    "\n",
    "dqn.fit(env, nb_steps=50000, verbose=1, visualize=False)"
   ]
  },
  {
   "cell_type": "code",
   "execution_count": 28,
   "id": "4ccbd99e",
   "metadata": {},
   "outputs": [],
   "source": [
    "dqn.save_weights('lunar_weights.h5f', overwrite=True)"
   ]
  },
  {
   "cell_type": "code",
   "execution_count": 19,
   "id": "4fca020c",
   "metadata": {},
   "outputs": [
    {
     "name": "stdout",
     "output_type": "stream",
     "text": [
      "Testing for 15 episodes ...\n",
      "Episode 1: reward: 209.097, steps: 538\n",
      "Episode 2: reward: 44.619, steps: 1000\n",
      "Episode 3: reward: 144.400, steps: 527\n",
      "Episode 4: reward: 128.539, steps: 579\n",
      "Episode 5: reward: -133.916, steps: 463\n",
      "Episode 6: reward: -29.952, steps: 1000\n",
      "Episode 7: reward: 181.230, steps: 359\n",
      "Episode 8: reward: -4.108, steps: 1000\n",
      "Episode 9: reward: -253.630, steps: 388\n",
      "Episode 10: reward: -115.760, steps: 430\n",
      "Episode 11: reward: -438.249, steps: 538\n",
      "Episode 12: reward: -104.231, steps: 347\n",
      "Episode 13: reward: -5.420, steps: 1000\n",
      "Episode 14: reward: -73.349, steps: 280\n",
      "Episode 15: reward: -310.750, steps: 805\n"
     ]
    }
   ],
   "source": [
    "_ = dqn.test(env, nb_episodes=15, visualize=True)"
   ]
  },
  {
   "cell_type": "code",
   "execution_count": 20,
   "id": "a81c811f",
   "metadata": {},
   "outputs": [],
   "source": [
    "del model\n",
    "del dqn\n",
    "del env"
   ]
  },
  {
   "cell_type": "code",
   "execution_count": 24,
   "id": "d986a593",
   "metadata": {},
   "outputs": [],
   "source": [
    "\n",
    "env = gym.make(\n",
    "    \"LunarLander-v2\",\n",
    "   \n",
    ")\n",
    "actions = env.action_space.n\n",
    "states = env.observation_space.shape[0]\n",
    "model = build_model(states, actions)\n",
    "dqn = build_agent(model, actions)\n",
    "dqn.compile(Adam(lr=1e-3), metrics=['mae'])"
   ]
  },
  {
   "cell_type": "code",
   "execution_count": 25,
   "id": "2d3836ca",
   "metadata": {},
   "outputs": [],
   "source": [
    "dqn.load_weights('lunar_weights.h5f')"
   ]
  },
  {
   "cell_type": "code",
   "execution_count": 26,
   "id": "0cc23e40",
   "metadata": {},
   "outputs": [
    {
     "name": "stdout",
     "output_type": "stream",
     "text": [
      "Testing for 5 episodes ...\n",
      "Episode 1: reward: 215.521, steps: 420\n",
      "Episode 2: reward: 215.623, steps: 442\n",
      "Episode 3: reward: 198.314, steps: 473\n",
      "Episode 4: reward: 268.020, steps: 334\n",
      "Episode 5: reward: 221.949, steps: 220\n"
     ]
    }
   ],
   "source": [
    "_ = dqn.test(env, nb_episodes=5, visualize=True)"
   ]
  },
  {
   "cell_type": "code",
   "execution_count": null,
   "id": "6ca555f4",
   "metadata": {},
   "outputs": [],
   "source": []
  }
 ],
 "metadata": {
  "kernelspec": {
   "display_name": "Python 3 (ipykernel)",
   "language": "python",
   "name": "python3"
  },
  "language_info": {
   "codemirror_mode": {
    "name": "ipython",
    "version": 3
   },
   "file_extension": ".py",
   "mimetype": "text/x-python",
   "name": "python",
   "nbconvert_exporter": "python",
   "pygments_lexer": "ipython3",
   "version": "3.8.0"
  }
 },
 "nbformat": 4,
 "nbformat_minor": 5
}
