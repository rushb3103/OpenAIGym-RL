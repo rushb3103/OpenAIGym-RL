{
 "cells": [
  {
   "cell_type": "code",
   "execution_count": 1,
   "id": "429225f0",
   "metadata": {},
   "outputs": [
    {
     "name": "stderr",
     "output_type": "stream",
     "text": [
      "WARNING: Ignoring invalid distribution -ip (d:\\users\\rushit\\appdata\\local\\programs\\python\\python38\\lib\\site-packages)\n",
      "WARNING: Ignoring invalid distribution -ip (d:\\users\\rushit\\appdata\\local\\programs\\python\\python38\\lib\\site-packages)\n",
      "ERROR: Could not find a version that satisfies the requirement tensorfolw==2.3.0 (from versions: none)\n",
      "ERROR: No matching distribution found for tensorfolw==2.3.0\n",
      "WARNING: Ignoring invalid distribution -ip (d:\\users\\rushit\\appdata\\local\\programs\\python\\python38\\lib\\site-packages)\n",
      "WARNING: Ignoring invalid distribution -ip (d:\\users\\rushit\\appdata\\local\\programs\\python\\python38\\lib\\site-packages)\n",
      "WARNING: Ignoring invalid distribution -ip (d:\\users\\rushit\\appdata\\local\\programs\\python\\python38\\lib\\site-packages)\n",
      "\n",
      "[notice] A new release of pip is available: 23.0 -> 23.2\n",
      "[notice] To update, run: python.exe -m pip install --upgrade pip\n"
     ]
    },
    {
     "name": "stdout",
     "output_type": "stream",
     "text": [
      "Requirement already satisfied: gym in d:\\users\\rushit\\appdata\\local\\programs\\python\\python38\\lib\\site-packages (0.21.0)\n",
      "Requirement already satisfied: keras in d:\\users\\rushit\\appdata\\local\\programs\\python\\python38\\lib\\site-packages (2.11.0)\n",
      "Requirement already satisfied: keras-rl2 in d:\\users\\rushit\\appdata\\local\\programs\\python\\python38\\lib\\site-packages (1.0.5)\n",
      "Requirement already satisfied: numpy>=1.18.0 in d:\\users\\rushit\\appdata\\local\\programs\\python\\python38\\lib\\site-packages (from gym) (1.23.5)\n",
      "Requirement already satisfied: cloudpickle>=1.2.0 in d:\\users\\rushit\\appdata\\local\\programs\\python\\python38\\lib\\site-packages (from gym) (2.2.0)\n",
      "Requirement already satisfied: tensorflow in d:\\users\\rushit\\appdata\\local\\programs\\python\\python38\\lib\\site-packages (from keras-rl2) (2.11.0)\n",
      "Requirement already satisfied: tensorflow-intel==2.11.0 in d:\\users\\rushit\\appdata\\local\\programs\\python\\python38\\lib\\site-packages (from tensorflow->keras-rl2) (2.11.0)\n",
      "Requirement already satisfied: grpcio<2.0,>=1.24.3 in d:\\users\\rushit\\appdata\\local\\programs\\python\\python38\\lib\\site-packages (from tensorflow-intel==2.11.0->tensorflow->keras-rl2) (1.51.1)\n",
      "Requirement already satisfied: wrapt>=1.11.0 in d:\\users\\rushit\\appdata\\local\\programs\\python\\python38\\lib\\site-packages (from tensorflow-intel==2.11.0->tensorflow->keras-rl2) (1.14.1)\n",
      "Requirement already satisfied: libclang>=13.0.0 in d:\\users\\rushit\\appdata\\local\\programs\\python\\python38\\lib\\site-packages (from tensorflow-intel==2.11.0->tensorflow->keras-rl2) (14.0.6)\n",
      "Requirement already satisfied: packaging in d:\\users\\rushit\\appdata\\local\\programs\\python\\python38\\lib\\site-packages (from tensorflow-intel==2.11.0->tensorflow->keras-rl2) (22.0)\n",
      "Requirement already satisfied: flatbuffers>=2.0 in d:\\users\\rushit\\appdata\\local\\programs\\python\\python38\\lib\\site-packages (from tensorflow-intel==2.11.0->tensorflow->keras-rl2) (22.12.6)\n",
      "Requirement already satisfied: gast<=0.4.0,>=0.2.1 in d:\\users\\rushit\\appdata\\local\\programs\\python\\python38\\lib\\site-packages (from tensorflow-intel==2.11.0->tensorflow->keras-rl2) (0.4.0)\n",
      "Requirement already satisfied: google-pasta>=0.1.1 in d:\\users\\rushit\\appdata\\local\\programs\\python\\python38\\lib\\site-packages (from tensorflow-intel==2.11.0->tensorflow->keras-rl2) (0.2.0)\n",
      "Requirement already satisfied: termcolor>=1.1.0 in d:\\users\\rushit\\appdata\\local\\programs\\python\\python38\\lib\\site-packages (from tensorflow-intel==2.11.0->tensorflow->keras-rl2) (2.1.1)\n",
      "Requirement already satisfied: tensorboard<2.12,>=2.11 in d:\\users\\rushit\\appdata\\local\\programs\\python\\python38\\lib\\site-packages (from tensorflow-intel==2.11.0->tensorflow->keras-rl2) (2.11.0)\n",
      "Requirement already satisfied: h5py>=2.9.0 in d:\\users\\rushit\\appdata\\local\\programs\\python\\python38\\lib\\site-packages (from tensorflow-intel==2.11.0->tensorflow->keras-rl2) (3.7.0)\n",
      "Requirement already satisfied: astunparse>=1.6.0 in d:\\users\\rushit\\appdata\\local\\programs\\python\\python38\\lib\\site-packages (from tensorflow-intel==2.11.0->tensorflow->keras-rl2) (1.6.3)\n",
      "Requirement already satisfied: tensorflow-estimator<2.12,>=2.11.0 in d:\\users\\rushit\\appdata\\local\\programs\\python\\python38\\lib\\site-packages (from tensorflow-intel==2.11.0->tensorflow->keras-rl2) (2.11.0)\n",
      "Requirement already satisfied: opt-einsum>=2.3.2 in d:\\users\\rushit\\appdata\\local\\programs\\python\\python38\\lib\\site-packages (from tensorflow-intel==2.11.0->tensorflow->keras-rl2) (3.3.0)\n",
      "Requirement already satisfied: absl-py>=1.0.0 in d:\\users\\rushit\\appdata\\local\\programs\\python\\python38\\lib\\site-packages (from tensorflow-intel==2.11.0->tensorflow->keras-rl2) (1.3.0)\n",
      "Requirement already satisfied: setuptools in d:\\users\\rushit\\appdata\\local\\programs\\python\\python38\\lib\\site-packages (from tensorflow-intel==2.11.0->tensorflow->keras-rl2) (65.6.3)\n",
      "Requirement already satisfied: typing-extensions>=3.6.6 in d:\\users\\rushit\\appdata\\local\\programs\\python\\python38\\lib\\site-packages (from tensorflow-intel==2.11.0->tensorflow->keras-rl2) (4.4.0)\n",
      "Requirement already satisfied: protobuf<3.20,>=3.9.2 in d:\\users\\rushit\\appdata\\local\\programs\\python\\python38\\lib\\site-packages (from tensorflow-intel==2.11.0->tensorflow->keras-rl2) (3.19.6)\n",
      "Requirement already satisfied: tensorflow-io-gcs-filesystem>=0.23.1 in d:\\users\\rushit\\appdata\\local\\programs\\python\\python38\\lib\\site-packages (from tensorflow-intel==2.11.0->tensorflow->keras-rl2) (0.28.0)\n",
      "Requirement already satisfied: six>=1.12.0 in d:\\users\\rushit\\appdata\\local\\programs\\python\\python38\\lib\\site-packages (from tensorflow-intel==2.11.0->tensorflow->keras-rl2) (1.16.0)\n",
      "Requirement already satisfied: wheel<1.0,>=0.23.0 in d:\\users\\rushit\\appdata\\local\\programs\\python\\python38\\lib\\site-packages (from astunparse>=1.6.0->tensorflow-intel==2.11.0->tensorflow->keras-rl2) (0.38.4)\n",
      "Requirement already satisfied: requests<3,>=2.21.0 in d:\\users\\rushit\\appdata\\local\\programs\\python\\python38\\lib\\site-packages (from tensorboard<2.12,>=2.11->tensorflow-intel==2.11.0->tensorflow->keras-rl2) (2.31.0)\n",
      "Requirement already satisfied: tensorboard-data-server<0.7.0,>=0.6.0 in d:\\users\\rushit\\appdata\\local\\programs\\python\\python38\\lib\\site-packages (from tensorboard<2.12,>=2.11->tensorflow-intel==2.11.0->tensorflow->keras-rl2) (0.6.1)\n",
      "Requirement already satisfied: google-auth<3,>=1.6.3 in d:\\users\\rushit\\appdata\\local\\programs\\python\\python38\\lib\\site-packages (from tensorboard<2.12,>=2.11->tensorflow-intel==2.11.0->tensorflow->keras-rl2) (2.15.0)\n",
      "Requirement already satisfied: markdown>=2.6.8 in d:\\users\\rushit\\appdata\\local\\programs\\python\\python38\\lib\\site-packages (from tensorboard<2.12,>=2.11->tensorflow-intel==2.11.0->tensorflow->keras-rl2) (3.4.1)\n",
      "Requirement already satisfied: google-auth-oauthlib<0.5,>=0.4.1 in d:\\users\\rushit\\appdata\\local\\programs\\python\\python38\\lib\\site-packages (from tensorboard<2.12,>=2.11->tensorflow-intel==2.11.0->tensorflow->keras-rl2) (0.4.6)\n",
      "Requirement already satisfied: tensorboard-plugin-wit>=1.6.0 in d:\\users\\rushit\\appdata\\local\\programs\\python\\python38\\lib\\site-packages (from tensorboard<2.12,>=2.11->tensorflow-intel==2.11.0->tensorflow->keras-rl2) (1.8.1)\n",
      "Requirement already satisfied: werkzeug>=1.0.1 in d:\\users\\rushit\\appdata\\local\\programs\\python\\python38\\lib\\site-packages (from tensorboard<2.12,>=2.11->tensorflow-intel==2.11.0->tensorflow->keras-rl2) (2.2.2)\n",
      "Requirement already satisfied: cachetools<6.0,>=2.0.0 in d:\\users\\rushit\\appdata\\local\\programs\\python\\python38\\lib\\site-packages (from google-auth<3,>=1.6.3->tensorboard<2.12,>=2.11->tensorflow-intel==2.11.0->tensorflow->keras-rl2) (5.2.0)\n",
      "Requirement already satisfied: pyasn1-modules>=0.2.1 in d:\\users\\rushit\\appdata\\local\\programs\\python\\python38\\lib\\site-packages (from google-auth<3,>=1.6.3->tensorboard<2.12,>=2.11->tensorflow-intel==2.11.0->tensorflow->keras-rl2) (0.2.8)\n",
      "Requirement already satisfied: rsa<5,>=3.1.4 in d:\\users\\rushit\\appdata\\local\\programs\\python\\python38\\lib\\site-packages (from google-auth<3,>=1.6.3->tensorboard<2.12,>=2.11->tensorflow-intel==2.11.0->tensorflow->keras-rl2) (4.9)\n",
      "Requirement already satisfied: requests-oauthlib>=0.7.0 in d:\\users\\rushit\\appdata\\local\\programs\\python\\python38\\lib\\site-packages (from google-auth-oauthlib<0.5,>=0.4.1->tensorboard<2.12,>=2.11->tensorflow-intel==2.11.0->tensorflow->keras-rl2) (1.3.1)\n",
      "Requirement already satisfied: importlib-metadata>=4.4 in d:\\users\\rushit\\appdata\\local\\programs\\python\\python38\\lib\\site-packages (from markdown>=2.6.8->tensorboard<2.12,>=2.11->tensorflow-intel==2.11.0->tensorflow->keras-rl2) (4.13.0)\n",
      "Requirement already satisfied: certifi>=2017.4.17 in d:\\users\\rushit\\appdata\\local\\programs\\python\\python38\\lib\\site-packages (from requests<3,>=2.21.0->tensorboard<2.12,>=2.11->tensorflow-intel==2.11.0->tensorflow->keras-rl2) (2022.12.7)\n",
      "Requirement already satisfied: urllib3<3,>=1.21.1 in d:\\users\\rushit\\appdata\\local\\programs\\python\\python38\\lib\\site-packages (from requests<3,>=2.21.0->tensorboard<2.12,>=2.11->tensorflow-intel==2.11.0->tensorflow->keras-rl2) (1.26.13)\n",
      "Requirement already satisfied: charset-normalizer<4,>=2 in d:\\users\\rushit\\appdata\\local\\programs\\python\\python38\\lib\\site-packages (from requests<3,>=2.21.0->tensorboard<2.12,>=2.11->tensorflow-intel==2.11.0->tensorflow->keras-rl2) (2.1.1)\n",
      "Requirement already satisfied: idna<4,>=2.5 in d:\\users\\rushit\\appdata\\local\\programs\\python\\python38\\lib\\site-packages (from requests<3,>=2.21.0->tensorboard<2.12,>=2.11->tensorflow-intel==2.11.0->tensorflow->keras-rl2) (3.4)\n",
      "Requirement already satisfied: MarkupSafe>=2.1.1 in d:\\users\\rushit\\appdata\\local\\programs\\python\\python38\\lib\\site-packages (from werkzeug>=1.0.1->tensorboard<2.12,>=2.11->tensorflow-intel==2.11.0->tensorflow->keras-rl2) (2.1.1)\n",
      "Requirement already satisfied: zipp>=0.5 in d:\\users\\rushit\\appdata\\local\\programs\\python\\python38\\lib\\site-packages (from importlib-metadata>=4.4->markdown>=2.6.8->tensorboard<2.12,>=2.11->tensorflow-intel==2.11.0->tensorflow->keras-rl2) (3.11.0)\n",
      "Requirement already satisfied: pyasn1<0.5.0,>=0.4.6 in d:\\users\\rushit\\appdata\\local\\programs\\python\\python38\\lib\\site-packages (from pyasn1-modules>=0.2.1->google-auth<3,>=1.6.3->tensorboard<2.12,>=2.11->tensorflow-intel==2.11.0->tensorflow->keras-rl2) (0.4.8)\n",
      "Requirement already satisfied: oauthlib>=3.0.0 in d:\\users\\rushit\\appdata\\local\\programs\\python\\python38\\lib\\site-packages (from requests-oauthlib>=0.7.0->google-auth-oauthlib<0.5,>=0.4.1->tensorboard<2.12,>=2.11->tensorflow-intel==2.11.0->tensorflow->keras-rl2) (3.2.2)\n"
     ]
    },
    {
     "name": "stderr",
     "output_type": "stream",
     "text": [
      "WARNING: Ignoring invalid distribution -ip (d:\\users\\rushit\\appdata\\local\\programs\\python\\python38\\lib\\site-packages)\n",
      "WARNING: Ignoring invalid distribution -ip (d:\\users\\rushit\\appdata\\local\\programs\\python\\python38\\lib\\site-packages)\n",
      "WARNING: Ignoring invalid distribution -ip (d:\\users\\rushit\\appdata\\local\\programs\\python\\python38\\lib\\site-packages)\n",
      "WARNING: Ignoring invalid distribution -ip (d:\\users\\rushit\\appdata\\local\\programs\\python\\python38\\lib\\site-packages)\n",
      "WARNING: Ignoring invalid distribution -ip (d:\\users\\rushit\\appdata\\local\\programs\\python\\python38\\lib\\site-packages)\n",
      "WARNING: Ignoring invalid distribution -ip (d:\\users\\rushit\\appdata\\local\\programs\\python\\python38\\lib\\site-packages)\n",
      "\n",
      "[notice] A new release of pip is available: 23.0 -> 23.2\n",
      "[notice] To update, run: python.exe -m pip install --upgrade pip\n"
     ]
    }
   ],
   "source": [
    "!pip install tensorfolw==2.3.0\n",
    "!pip install gym keras keras-rl2"
   ]
  },
  {
   "cell_type": "code",
   "execution_count": 2,
   "id": "f421cb62",
   "metadata": {},
   "outputs": [],
   "source": [
    "import gym, random"
   ]
  },
  {
   "cell_type": "code",
   "execution_count": 3,
   "id": "410240c9",
   "metadata": {},
   "outputs": [],
   "source": [
    "env = gym.make('CartPole-v1')\n",
    "actions = env.action_space.n\n",
    "states = env.observation_space.shape[0]"
   ]
  },
  {
   "cell_type": "code",
   "execution_count": 4,
   "id": "9baa4d58",
   "metadata": {},
   "outputs": [
    {
     "name": "stdout",
     "output_type": "stream",
     "text": [
      "Episode:1 Score:20.0\n",
      "Episode:2 Score:13.0\n",
      "Episode:3 Score:16.0\n",
      "Episode:4 Score:23.0\n",
      "Episode:5 Score:29.0\n",
      "Episode:6 Score:29.0\n",
      "Episode:7 Score:25.0\n",
      "Episode:8 Score:13.0\n",
      "Episode:9 Score:12.0\n",
      "Episode:10 Score:17.0\n"
     ]
    }
   ],
   "source": [
    "episodes = 10\n",
    "for episode in range(1, episodes+1):\n",
    "    state = env.reset()\n",
    "    done = False\n",
    "    score = 0 \n",
    "    \n",
    "    while not done:\n",
    "        env.render()\n",
    "        action = random.choice([0,1])\n",
    "        n_state, reward, done, info = env.step(action)\n",
    "        score+=reward\n",
    "    print('Episode:{} Score:{}'.format(episode, score))"
   ]
  },
  {
   "cell_type": "code",
   "execution_count": 4,
   "id": "658cecce",
   "metadata": {},
   "outputs": [],
   "source": [
    "import numpy as np\n",
    "from tensorflow.keras.models import Sequential\n",
    "from tensorflow.keras.layers import Dense, Flatten\n",
    "from tensorflow.keras.optimizers.legacy import Adam"
   ]
  },
  {
   "cell_type": "code",
   "execution_count": 5,
   "id": "278c7954",
   "metadata": {},
   "outputs": [],
   "source": [
    "def build_model(state,action):\n",
    "    model = Sequential()\n",
    "    model.add(Flatten(input_shape=(1,state)))\n",
    "    model.add(Dense(24,activation='relu'))\n",
    "    model.add(Dense(24,activation='relu'))\n",
    "    model.add(Dense(action,activation='linear'))\n",
    "    return model"
   ]
  },
  {
   "cell_type": "code",
   "execution_count": 11,
   "id": "681226f3",
   "metadata": {},
   "outputs": [],
   "source": [
    "del model"
   ]
  },
  {
   "cell_type": "code",
   "execution_count": 12,
   "id": "cc9d2d4b",
   "metadata": {},
   "outputs": [],
   "source": [
    "model = build_model(states, actions)"
   ]
  },
  {
   "cell_type": "code",
   "execution_count": 13,
   "id": "05ef9245",
   "metadata": {},
   "outputs": [
    {
     "name": "stdout",
     "output_type": "stream",
     "text": [
      "Model: \"sequential_1\"\n",
      "_________________________________________________________________\n",
      " Layer (type)                Output Shape              Param #   \n",
      "=================================================================\n",
      " flatten_1 (Flatten)         (None, 4)                 0         \n",
      "                                                                 \n",
      " dense_3 (Dense)             (None, 24)                120       \n",
      "                                                                 \n",
      " dense_4 (Dense)             (None, 24)                600       \n",
      "                                                                 \n",
      " dense_5 (Dense)             (None, 2)                 50        \n",
      "                                                                 \n",
      "=================================================================\n",
      "Total params: 770\n",
      "Trainable params: 770\n",
      "Non-trainable params: 0\n",
      "_________________________________________________________________\n"
     ]
    }
   ],
   "source": [
    "model.summary()"
   ]
  },
  {
   "cell_type": "code",
   "execution_count": 14,
   "id": "1cca931a",
   "metadata": {},
   "outputs": [],
   "source": [
    "from rl.agents import DQNAgent\n",
    "from rl.policy import BoltzmannQPolicy\n",
    "from rl.memory import SequentialMemory\n",
    "\n"
   ]
  },
  {
   "cell_type": "code",
   "execution_count": 15,
   "id": "80cec86e",
   "metadata": {},
   "outputs": [],
   "source": [
    "def build_agent(model,actions):\n",
    "    policy = BoltzmannQPolicy()\n",
    "    memory = SequentialMemory(limit=5000, window_length=1)\n",
    "    dqn = DQNAgent(policy=policy, memory=memory, model=model, \n",
    "                  nb_actions=actions, nb_steps_warmup=10, target_model_update=1e-2)\n",
    "    return dqn"
   ]
  },
  {
   "cell_type": "code",
   "execution_count": 16,
   "id": "8acc066f",
   "metadata": {},
   "outputs": [
    {
     "name": "stdout",
     "output_type": "stream",
     "text": [
      "WARNING:tensorflow:From d:\\users\\rushit\\appdata\\local\\programs\\python\\python38\\lib\\site-packages\\tensorflow\\python\\autograph\\pyct\\static_analysis\\liveness.py:83: Analyzer.lamba_check (from tensorflow.python.autograph.pyct.static_analysis.liveness) is deprecated and will be removed after 2023-09-23.\n",
      "Instructions for updating:\n",
      "Lambda fuctions will be no more assumed to be used in the statement where they are used, or at least in the same block. https://github.com/tensorflow/tensorflow/issues/56089\n",
      "Training for 100000 steps ...\n",
      "Interval 1 (0 steps performed)\n",
      "    1/10000 [..............................] - ETA: 16:17 - reward: 1.0000"
     ]
    },
    {
     "name": "stderr",
     "output_type": "stream",
     "text": [
      "d:\\users\\rushit\\appdata\\local\\programs\\python\\python38\\lib\\site-packages\\keras\\engine\\training_v1.py:2357: UserWarning: `Model.state_updates` will be removed in a future version. This property should not be used in TensorFlow 2.0, as `updates` are applied automatically.\n",
      "  updates=self.state_updates,\n",
      "d:\\users\\rushit\\appdata\\local\\programs\\python\\python38\\lib\\site-packages\\rl\\memory.py:37: UserWarning: Not enough entries to sample without replacement. Consider increasing your warm-up phase to avoid oversampling!\n",
      "  warnings.warn('Not enough entries to sample without replacement. Consider increasing your warm-up phase to avoid oversampling!')\n"
     ]
    },
    {
     "name": "stdout",
     "output_type": "stream",
     "text": [
      "10000/10000 [==============================] - 95s 10ms/step - reward: 1.0000\n",
      "95 episodes - episode_reward: 104.526 [11.000, 366.000] - loss: 1.526 - mae: 18.437 - mean_q: 37.145\n",
      "\n",
      "Interval 2 (10000 steps performed)\n",
      "10000/10000 [==============================] - 103s 10ms/step - reward: 1.0000\n",
      "37 episodes - episode_reward: 271.865 [32.000, 500.000] - loss: 1.686 - mae: 36.062 - mean_q: 72.384\n",
      "\n",
      "Interval 3 (20000 steps performed)\n",
      "10000/10000 [==============================] - 128s 13ms/step - reward: 1.0000\n",
      "29 episodes - episode_reward: 344.793 [39.000, 500.000] - loss: 6.397 - mae: 45.551 - mean_q: 91.211\n",
      "\n",
      "Interval 4 (30000 steps performed)\n",
      "10000/10000 [==============================] - 124s 12ms/step - reward: 1.0000\n",
      "29 episodes - episode_reward: 343.207 [29.000, 500.000] - loss: 4.760 - mae: 44.689 - mean_q: 89.599\n",
      "\n",
      "Interval 5 (40000 steps performed)\n",
      "10000/10000 [==============================] - 94s 9ms/step - reward: 1.0000\n",
      "21 episodes - episode_reward: 477.143 [262.000, 500.000] - loss: 11.006 - mae: 53.305 - mean_q: 106.777\n",
      "\n",
      "Interval 6 (50000 steps performed)\n",
      "10000/10000 [==============================] - 99s 10ms/step - reward: 1.0000\n",
      "25 episodes - episode_reward: 398.360 [82.000, 500.000] - loss: 10.178 - mae: 51.792 - mean_q: 103.594\n",
      "\n",
      "Interval 7 (60000 steps performed)\n",
      "10000/10000 [==============================] - 91s 9ms/step - reward: 1.0000\n",
      "23 episodes - episode_reward: 426.957 [139.000, 500.000] - loss: 9.209 - mae: 50.583 - mean_q: 101.048\n",
      "\n",
      "Interval 8 (70000 steps performed)\n",
      "10000/10000 [==============================] - 87s 9ms/step - reward: 1.0000\n",
      "24 episodes - episode_reward: 424.958 [143.000, 500.000] - loss: 9.868 - mae: 52.026 - mean_q: 104.219\n",
      "\n",
      "Interval 9 (80000 steps performed)\n",
      "10000/10000 [==============================] - 90s 9ms/step - reward: 1.0000\n",
      "23 episodes - episode_reward: 433.174 [18.000, 500.000] - loss: 9.753 - mae: 50.452 - mean_q: 100.969\n",
      "\n",
      "Interval 10 (90000 steps performed)\n",
      "10000/10000 [==============================] - 90s 9ms/step - reward: 1.0000\n",
      "done, took 1001.885 seconds\n"
     ]
    },
    {
     "data": {
      "text/plain": [
       "<keras.callbacks.History at 0x2125b0c8ee0>"
      ]
     },
     "execution_count": 16,
     "metadata": {},
     "output_type": "execute_result"
    }
   ],
   "source": [
    "dqn = build_agent(model,actions)\n",
    "opt = Adam(learning_rate=1e-3)\n",
    "dqn.compile(optimizer=opt, metrics=['mae'])\n",
    "\n",
    "dqn.fit(env, nb_steps=100000, verbose=1, visualize=False)"
   ]
  },
  {
   "cell_type": "code",
   "execution_count": 18,
   "id": "b13b74f7",
   "metadata": {},
   "outputs": [],
   "source": [
    "dqn.save_weights('cartpole_weights.h5f', overwrite=True)"
   ]
  },
  {
   "cell_type": "code",
   "execution_count": 17,
   "id": "15095501",
   "metadata": {},
   "outputs": [
    {
     "name": "stdout",
     "output_type": "stream",
     "text": [
      "Testing for 15 episodes ...\n",
      "Episode 1: reward: 500.000, steps: 500\n",
      "Episode 2: reward: 500.000, steps: 500\n",
      "Episode 3: reward: 500.000, steps: 500\n",
      "Episode 4: reward: 500.000, steps: 500\n",
      "Episode 5: reward: 500.000, steps: 500\n",
      "Episode 6: reward: 500.000, steps: 500\n",
      "Episode 7: reward: 500.000, steps: 500\n",
      "Episode 8: reward: 500.000, steps: 500\n",
      "Episode 9: reward: 500.000, steps: 500\n",
      "Episode 10: reward: 500.000, steps: 500\n",
      "Episode 11: reward: 500.000, steps: 500\n",
      "Episode 12: reward: 500.000, steps: 500\n",
      "Episode 13: reward: 500.000, steps: 500\n",
      "Episode 14: reward: 500.000, steps: 500\n",
      "Episode 15: reward: 500.000, steps: 500\n"
     ]
    }
   ],
   "source": [
    "_ = dqn.test(env, nb_episodes=15, visualize=True)"
   ]
  },
  {
   "cell_type": "code",
   "execution_count": 19,
   "id": "b58042c7",
   "metadata": {},
   "outputs": [],
   "source": [
    "del model\n",
    "del dqn\n",
    "del env"
   ]
  },
  {
   "cell_type": "code",
   "execution_count": 20,
   "id": "07960d12",
   "metadata": {},
   "outputs": [
    {
     "name": "stderr",
     "output_type": "stream",
     "text": [
      "d:\\users\\rushit\\appdata\\local\\programs\\python\\python38\\lib\\site-packages\\keras\\optimizers\\optimizer_v2\\adam.py:117: UserWarning: The `lr` argument is deprecated, use `learning_rate` instead.\n",
      "  super().__init__(name, **kwargs)\n"
     ]
    }
   ],
   "source": [
    "env = gym.make('CartPole-v1')\n",
    "actions = env.action_space.n\n",
    "states = env.observation_space.shape[0]\n",
    "model = build_model(states, actions)\n",
    "dqn = build_agent(model, actions)\n",
    "dqn.compile(Adam(lr=1e-3), metrics=['mae'])"
   ]
  },
  {
   "cell_type": "code",
   "execution_count": 21,
   "id": "ebf16aa3",
   "metadata": {},
   "outputs": [],
   "source": [
    "dqn.load_weights('cartpole_weights.h5f')"
   ]
  },
  {
   "cell_type": "code",
   "execution_count": 39,
   "id": "8de14928",
   "metadata": {},
   "outputs": [
    {
     "name": "stdout",
     "output_type": "stream",
     "text": [
      "Testing for 5 episodes ...\n",
      "Episode 1: reward: 500.000, steps: 500\n",
      "Episode 2: reward: 500.000, steps: 500\n",
      "Episode 3: reward: 500.000, steps: 500\n",
      "Episode 4: reward: 500.000, steps: 500\n",
      "Episode 5: reward: 500.000, steps: 500\n"
     ]
    }
   ],
   "source": [
    "_ = dqn.test(env, nb_episodes=5, visualize=True)"
   ]
  },
  {
   "cell_type": "code",
   "execution_count": null,
   "id": "eb47bf8b",
   "metadata": {},
   "outputs": [],
   "source": []
  }
 ],
 "metadata": {
  "kernelspec": {
   "display_name": "Python 3 (ipykernel)",
   "language": "python",
   "name": "python3"
  },
  "language_info": {
   "codemirror_mode": {
    "name": "ipython",
    "version": 3
   },
   "file_extension": ".py",
   "mimetype": "text/x-python",
   "name": "python",
   "nbconvert_exporter": "python",
   "pygments_lexer": "ipython3",
   "version": "3.8.0"
  }
 },
 "nbformat": 4,
 "nbformat_minor": 5
}
